{
  "cells": [
    {
      "cell_type": "code",
      "source": "import geopandas as gpd\nimport pandas as pd\nimport matplotlib.pyplot as plt\nimport folium\nimport mapclassify\nimport geopy",
      "metadata": {
        "tags": [],
        "cell_id": "5a77ea7a9f6842778ac0441e243096ed",
        "source_hash": "682dbe70",
        "execution_start": 1669156077730,
        "execution_millis": 1667,
        "deepnote_to_be_reexecuted": false,
        "deepnote_app_is_code_hidden": true,
        "deepnote_cell_type": "code"
      },
      "execution_count": 3,
      "outputs": []
    },
    {
      "cell_type": "markdown",
      "source": "# Baltimore neighborhoods by population",
      "metadata": {
        "is_collapsed": false,
        "cell_id": "faaf79649046401bb807be20520a6608",
        "tags": [],
        "deepnote_app_coordinates": {
          "x": 0,
          "y": 0,
          "w": 12,
          "h": 5
        },
        "formattedRanges": [],
        "deepnote_cell_type": "text-cell-h1"
      }
    },
    {
      "cell_type": "code",
      "source": "hoods = gpd.read_file('/work/bolton_hill.geojson')\nhoods.head()",
      "metadata": {
        "tags": [],
        "cell_id": "fdc8f4914e0d4cdda5db09e92b3538b9",
        "source_hash": "a2475b85",
        "execution_start": 1669156336750,
        "execution_millis": 2738,
        "deepnote_to_be_reexecuted": false,
        "deepnote_app_is_code_hidden": true,
        "deepnote_cell_type": "code"
      },
      "outputs": [],
      "execution_count": null
    },
    {
      "cell_type": "code",
      "source": "#  Get current coordinate system. This has area in m2, which is a bit hard to work with.\nprint(hoods.crs)",
      "metadata": {
        "tags": [],
        "cell_id": "b39f8f24725e4fb68e1c26cd86005e09",
        "source_hash": "d7c15e8f",
        "execution_start": 1669156340660,
        "execution_millis": 39,
        "deepnote_to_be_reexecuted": false,
        "deepnote_app_is_code_hidden": true,
        "deepnote_cell_type": "code"
      },
      "outputs": [],
      "execution_count": null
    },
    {
      "cell_type": "code",
      "metadata": {
        "tags": [],
        "cell_id": "7f17e8fced4b4001975e38297bf8b9e7",
        "source_hash": "c5882601",
        "execution_start": 1668909376131,
        "execution_millis": 725,
        "deepnote_to_be_reexecuted": false,
        "deepnote_app_is_code_hidden": true,
        "deepnote_cell_type": "code"
      },
      "source": "# Convert to epsg=3857 to calculate area in km2\nhoods = hoods.to_crs(epsg=3857)",
      "outputs": [],
      "execution_count": 4
    },
    {
      "cell_type": "code",
      "metadata": {
        "tags": [],
        "cell_id": "c29f73e1560e405f96bb5769660a97d4",
        "source_hash": "17789c7a",
        "execution_start": 1668909376176,
        "execution_millis": 0,
        "deepnote_to_be_reexecuted": false,
        "deepnote_app_is_code_hidden": true,
        "deepnote_cell_type": "code"
      },
      "source": "# Calculate area in km2\nsqm_to_sqkm = 10**6\nhoods['area_sqkm'] = hoods.area / sqm_to_sqkm\n",
      "outputs": [],
      "execution_count": 5
    },
    {
      "cell_type": "code",
      "metadata": {
        "tags": [],
        "cell_id": "2602fbf9a6f14000872dc422a4fcc7c3",
        "source_hash": "d5206c76",
        "execution_start": 1668909376177,
        "execution_millis": 42,
        "deepnote_to_be_reexecuted": false,
        "deepnote_app_is_code_hidden": true,
        "deepnote_cell_type": "code"
      },
      "source": "# Change crs back to 4326 so our polygons are in decimal degrees again, but we have a better\n# area value to work with\nhoods = hoods.to_crs(epsg=4326)",
      "outputs": [],
      "execution_count": 6
    },
    {
      "cell_type": "code",
      "source": "bmore_lat = 39.299236\nbmore_long= -76.609383\nbaltimore=[bmore_lat,bmore_long]\nm=folium.Map(location=baltimore, zoom_start=11)\ndisplay(m)",
      "metadata": {
        "tags": [],
        "cell_id": "0b6b1fdca3b740de935bd71d786b9268",
        "source_hash": "470eed13",
        "execution_start": 1669156347747,
        "execution_millis": 89,
        "deepnote_to_be_reexecuted": false,
        "deepnote_app_is_code_hidden": false,
        "deepnote_cell_type": "code"
      },
      "outputs": [],
      "execution_count": null
    },
    {
      "cell_type": "code",
      "source": "folium.Choropleth(\n    geo_data='/work/bolton_hill.geojson',\n    data=hoods,columns=['FID','Population'], \n    key_on='feature.properties.FID',\n    fill_color='YlOrRd',\n    nan_fill_color='White',\n    fill_opacity=0.6,\n    line_opacity=0.3, \n    legend_name='Baltimore City Neighborhoods by Population',\n    highlight=True,\n    line_color='black').add_to(m)",
      "metadata": {
        "tags": [],
        "cell_id": "141084410fd948c9ad5f53691fd32160",
        "source_hash": "9277b121",
        "execution_start": 1669156348927,
        "execution_millis": 880,
        "deepnote_to_be_reexecuted": false,
        "deepnote_app_is_code_hidden": true,
        "deepnote_cell_type": "code"
      },
      "outputs": [],
      "execution_count": null
    },
    {
      "cell_type": "code",
      "source": "folium.features.GeoJson(\n    data=hoods,\n    name=\"Population of Baltimore City Neighborhoods\",\n    smooth_factor=2,\n    style_function=lambda x: {'color':'black','fillColor':'transparent','weight':0.5},\n    tooltip=folium.features.GeoJsonTooltip(\n        fields=['Name',\n                'Population'\n                ],\n        aliases=['Neighborhood: ',\n                'Population: '\n                ],\n        localize=True,\n        sticky=False,\n        labels=True,\n        style=\"\"\"\n            background-color: #F0EFEF;\n            border: 2px solid black;\n            border-radius: 3px;\n            box-shadow: 3px;\n        \"\"\",\n        max_width=1000,),\n            highlight_function=lambda x: {'weight':3,'fillColor':'grey'},\n        ).add_to(m)",
      "metadata": {
        "tags": [],
        "cell_id": "06e7f38dd9494b95b3de1f1a7fb3900c",
        "source_hash": "689c60ae",
        "execution_start": 1669156350174,
        "execution_millis": 2229,
        "deepnote_to_be_reexecuted": false,
        "deepnote_app_is_code_hidden": true,
        "deepnote_cell_type": "code"
      },
      "outputs": [],
      "execution_count": null
    },
    {
      "cell_type": "code",
      "source": "display(m)",
      "metadata": {
        "tags": [],
        "cell_id": "eb48f3daad0e45d28394fde4ec394e48",
        "source_hash": "55456409",
        "execution_start": 1668909478992,
        "execution_millis": 3083,
        "deepnote_app_coordinates": {
          "h": 5,
          "w": 12,
          "x": 0,
          "y": 55
        },
        "deepnote_to_be_reexecuted": false,
        "deepnote_app_is_code_hidden": true,
        "deepnote_cell_type": "code"
      },
      "outputs": [],
      "execution_count": null
    },
    {
      "cell_type": "code",
      "source": "",
      "metadata": {
        "tags": [],
        "cell_id": "feeab2ae9eba4d89bcb1268267f4773a",
        "source_hash": "b623e53d",
        "execution_start": 1668909379360,
        "deepnote_to_be_reexecuted": false,
        "deepnote_cell_type": "code"
      },
      "execution_count": 10,
      "outputs": []
    },
    {
      "cell_type": "markdown",
      "source": "<a style='text-decoration:none;line-height:16px;display:flex;color:#5B5B62;padding:10px;justify-content:end;' href='https://deepnote.com?utm_source=created-in-deepnote-cell&projectId=f74fdc08-0466-4feb-b34b-1d88a7f90561' target=\"_blank\">\n<img alt='Created in deepnote.com' style='display:inline;max-height:16px;margin:0px;margin-right:7.5px;' src='data:image/svg+xml;base64,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' > </img>\nCreated in <span style='font-weight:600;margin-left:4px;'>Deepnote</span></a>",
      "metadata": {
        "created_in_deepnote_cell": true,
        "deepnote_cell_type": "markdown"
      }
    }
  ],
  "nbformat": 4,
  "nbformat_minor": 0,
  "metadata": {
    "deepnote": {},
    "orig_nbformat": 2,
    "deepnote_app_layout": "article",
    "deepnote_notebook_id": "e3aa30ec55af411b8a41776933bb1d62",
    "deepnote_execution_queue": []
  }
}