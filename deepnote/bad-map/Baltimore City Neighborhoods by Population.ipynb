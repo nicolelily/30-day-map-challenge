{
  "cells": [
    {
      "cell_type": "code",
      "source": "import geopandas as gpd\nimport pandas as pd\nimport matplotlib.pyplot as plt\nimport folium\nimport mapclassify\nimport geopy",
      "metadata": {
        "tags": [],
        "cell_id": "01a10e9420a14d428fff53c722017df4",
        "source_hash": "682dbe70",
        "execution_start": 1668909372575,
        "execution_millis": 2704,
        "deepnote_to_be_reexecuted": false,
        "deepnote_app_is_code_hidden": true,
        "deepnote_cell_type": "code"
      },
      "outputs": [],
      "execution_count": 1
    },
    {
      "cell_type": "code",
      "source": "hoods = gpd.read_file('/work/bolton_hill.geojson')\nhoods.head()",
      "metadata": {
        "tags": [],
        "cell_id": "ca0a3c8c26564a1ea47e7ad084b4412e",
        "source_hash": "a2475b85",
        "execution_start": 1668909375283,
        "execution_millis": 1570,
        "deepnote_to_be_reexecuted": false,
        "deepnote_app_coordinates": {
          "x": 0,
          "y": 7,
          "w": 12,
          "h": 5
        },
        "deepnote_app_is_code_hidden": true,
        "deepnote_cell_type": "code"
      },
      "outputs": [],
      "execution_count": 2
    },
    {
      "cell_type": "code",
      "source": "#  Get current coordinate system. This has area in m2, which is a bit hard to work with.\nprint(hoods.crs)",
      "metadata": {
        "tags": [],
        "cell_id": "5c0d165f5e1344a3b2828d704b7dd569",
        "source_hash": "d7c15e8f",
        "execution_start": 1668909376084,
        "execution_millis": 1,
        "deepnote_to_be_reexecuted": false,
        "deepnote_app_is_code_hidden": true,
        "deepnote_cell_type": "code"
      },
      "outputs": [],
      "execution_count": 3
    },
    {
      "cell_type": "code",
      "source": "# Convert to epsg=3857 to calculate area in km2\nhoods = hoods.to_crs(epsg=3857)",
      "metadata": {
        "tags": [],
        "cell_id": "e5d4a08a2fa24cdcbda6e26d61621455",
        "source_hash": "c5882601",
        "execution_start": 1668909376131,
        "execution_millis": 725,
        "deepnote_to_be_reexecuted": false,
        "deepnote_app_is_code_hidden": true,
        "deepnote_cell_type": "code"
      },
      "outputs": [],
      "execution_count": 4
    },
    {
      "cell_type": "code",
      "source": "# Calculate area in km2\nsqm_to_sqkm = 10**6\nhoods['area_sqkm'] = hoods.area / sqm_to_sqkm\n",
      "metadata": {
        "tags": [],
        "cell_id": "b542a53efd554f79848ba8750b5a69b3",
        "source_hash": "17789c7a",
        "execution_start": 1668909376176,
        "execution_millis": 0,
        "deepnote_to_be_reexecuted": false,
        "deepnote_app_is_code_hidden": true,
        "deepnote_cell_type": "code"
      },
      "outputs": [],
      "execution_count": 5
    },
    {
      "cell_type": "code",
      "source": "# Change crs back to 4326 so our polygons are in decimal degrees again, but we have a better\n# area value to work with\nhoods = hoods.to_crs(epsg=4326)",
      "metadata": {
        "tags": [],
        "cell_id": "08656ed0b09745b3b18194bd8fb80ddf",
        "source_hash": "d5206c76",
        "execution_start": 1668909376177,
        "execution_millis": 42,
        "deepnote_to_be_reexecuted": false,
        "deepnote_app_is_code_hidden": true,
        "deepnote_cell_type": "code"
      },
      "outputs": [],
      "execution_count": 6
    },
    {
      "cell_type": "code",
      "source": "bmore_lat = 39.299236\nbmore_long= -76.609383\nbaltimore=[bmore_lat,bmore_long]\nm=folium.Map(location=baltimore, zoom_start=11)\ndisplay(m)",
      "metadata": {
        "tags": [],
        "cell_id": "0cb576b4186c4282b8d848bfb2910796",
        "source_hash": "470eed13",
        "execution_start": 1668909456653,
        "execution_millis": 23,
        "deepnote_to_be_reexecuted": false,
        "deepnote_app_is_code_hidden": false,
        "deepnote_cell_type": "code"
      },
      "outputs": [],
      "execution_count": 15
    },
    {
      "cell_type": "code",
      "source": "folium.Choropleth(\n    geo_data='/work/bolton_hill.geojson',\n    data=hoods,columns=['FID','Population'], \n    key_on='feature.properties.FID',\n    fill_color='YlOrRd',\n    nan_fill_color='White',\n    fill_opacity=0.6,\n    line_opacity=0.3, \n    legend_name='Baltimore City Neighborhoods by Population',\n    highlight=True,\n    line_color='black').add_to(m)",
      "metadata": {
        "tags": [],
        "cell_id": "8756c2e2fbc9464ab0cc55700850e753",
        "source_hash": "9277b121",
        "execution_start": 1668909474075,
        "execution_millis": 1328,
        "deepnote_to_be_reexecuted": false,
        "deepnote_app_is_code_hidden": true,
        "deepnote_cell_type": "code"
      },
      "outputs": [],
      "execution_count": 17
    },
    {
      "cell_type": "code",
      "source": "folium.features.GeoJson(\n    data=hoods,\n    name=\"Population of Baltimore City Neighborhoods\",\n    smooth_factor=2,\n    style_function=lambda x: {'color':'black','fillColor':'transparent','weight':0.5},\n    tooltip=folium.features.GeoJsonTooltip(\n        fields=['Name',\n                'Population'\n                ],\n        aliases=['Neighborhood: ',\n                'Population: '\n                ],\n        localize=True,\n        sticky=False,\n        labels=True,\n        style=\"\"\"\n            background-color: #F0EFEF;\n            border: 2px solid black;\n            border-radius: 3px;\n            box-shadow: 3px;\n        \"\"\",\n        max_width=1000,),\n            highlight_function=lambda x: {'weight':3,'fillColor':'grey'},\n        ).add_to(m)",
      "metadata": {
        "tags": [],
        "cell_id": "9acf258cff2d4fa7b0d7e34cf8a9a10b",
        "source_hash": "689c60ae",
        "execution_start": 1668909475401,
        "execution_millis": 585,
        "deepnote_to_be_reexecuted": false,
        "deepnote_app_is_code_hidden": true,
        "deepnote_cell_type": "code"
      },
      "outputs": [],
      "execution_count": 18
    },
    {
      "cell_type": "code",
      "source": "display(m)",
      "metadata": {
        "tags": [],
        "cell_id": "7ad94db84815440eab5ba9b58ce456fb",
        "source_hash": "55456409",
        "execution_start": 1668909478992,
        "execution_millis": 3083,
        "deepnote_to_be_reexecuted": false,
        "deepnote_app_coordinates": {
          "x": 0,
          "y": 55,
          "w": 12,
          "h": 5
        },
        "deepnote_cell_type": "code"
      },
      "outputs": [],
      "execution_count": 19
    },
    {
      "cell_type": "code",
      "source": "",
      "metadata": {
        "tags": [],
        "cell_id": "f8fc94c5e67d4747b06c34b3099e9625",
        "source_hash": "b623e53d",
        "execution_start": 1668909379360,
        "deepnote_to_be_reexecuted": false,
        "deepnote_app_coordinates": {
          "x": 0,
          "y": 61,
          "w": 12,
          "h": 5
        },
        "deepnote_cell_type": "code"
      },
      "outputs": [],
      "execution_count": 10
    },
    {
      "cell_type": "markdown",
      "source": "<a style='text-decoration:none;line-height:16px;display:flex;color:#5B5B62;padding:10px;justify-content:end;' href='https://deepnote.com?utm_source=created-in-deepnote-cell&projectId=2a82fafc-8964-4c12-93c0-b9d135f4aa1c' target=\"_blank\">\n<img alt='Created in deepnote.com' style='display:inline;max-height:16px;margin:0px;margin-right:7.5px;' src='data:image/svg+xml;base64,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' > </img>\nCreated in <span style='font-weight:600;margin-left:4px;'>Deepnote</span></a>",
      "metadata": {
        "created_in_deepnote_cell": true,
        "deepnote_cell_type": "markdown"
      }
    }
  ],
  "nbformat": 4,
  "nbformat_minor": 0,
  "metadata": {
    "deepnote": {},
    "orig_nbformat": 2,
    "deepnote_notebook_id": "ec8b5b64339c4401ac35ae3e689cf873",
    "deepnote_app_layout": "article",
    "deepnote_execution_queue": []
  }
}